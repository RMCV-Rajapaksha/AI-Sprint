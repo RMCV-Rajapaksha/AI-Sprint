{
 "cells": [
  {
   "cell_type": "code",
   "execution_count": 1,
   "metadata": {
    "editable": false,
    "trusted": true
   },
   "outputs": [],
   "source": [
    "import pandas as pd\n",
    "import numpy as np\n",
    "\n",
    "from glob import glob\n",
    "from tqdm.notebook import tqdm\n",
    "\n",
    "import matplotlib.pyplot as plt\n",
    "from PIL import Image\n",
    "\n",
    "plt.style.use('ggplot')"
   ]
  },
  {
   "cell_type": "code",
   "execution_count": null,
   "metadata": {
    "editable": false,
    "execution": {
     "iopub.execute_input": "2022-07-09T20:47:22.075239Z",
     "iopub.status.busy": "2022-07-09T20:47:22.074214Z",
     "iopub.status.idle": "2022-07-09T20:47:24.633272Z",
     "shell.execute_reply": "2022-07-09T20:47:24.632312Z",
     "shell.execute_reply.started": "2022-07-09T20:47:22.075202Z"
    },
    "trusted": true
   },
   "outputs": [],
   "source": [
    "annot = pd.read_parquet('../input/textocr-text-extraction-from-images-dataset/annot.parquet')\n",
    "imgs = pd.read_parquet('../input/textocr-text-extraction-from-images-dataset/img.parquet')\n",
    "img_fns = glob('../input/textocr-text-extraction-from-images-dataset/train_val_images/train_images/*')"
   ]
  },
  {
   "cell_type": "code",
   "execution_count": null,
   "metadata": {
    "editable": false,
    "execution": {
     "iopub.execute_input": "2022-07-09T20:47:33.666191Z",
     "iopub.status.busy": "2022-07-09T20:47:33.665398Z",
     "iopub.status.idle": "2022-07-09T20:47:34.333104Z",
     "shell.execute_reply": "2022-07-09T20:47:34.328816Z",
     "shell.execute_reply.started": "2022-07-09T20:47:33.66614Z"
    },
    "trusted": true
   },
   "outputs": [],
   "source": [
    "fig, ax = plt.subplots(figsize=(10, 10))\n",
    "ax.imshow(plt.imread(img_fns[0]))\n",
    "ax.axis('off')\n",
    "plt.show()"
   ]
  },
  {
   "cell_type": "code",
   "execution_count": null,
   "metadata": {
    "editable": false,
    "execution": {
     "iopub.execute_input": "2022-07-09T20:47:37.151687Z",
     "iopub.status.busy": "2022-07-09T20:47:37.150633Z",
     "iopub.status.idle": "2022-07-09T20:47:37.221445Z",
     "shell.execute_reply": "2022-07-09T20:47:37.220352Z",
     "shell.execute_reply.started": "2022-07-09T20:47:37.151639Z"
    },
    "trusted": true
   },
   "outputs": [],
   "source": [
    "image_id = img_fns[0].split('/')[-1].split('.')[0]\n",
    "annot.query('image_id == @image_id')"
   ]
  },
  {
   "cell_type": "code",
   "execution_count": null,
   "metadata": {
    "editable": false,
    "execution": {
     "iopub.execute_input": "2022-07-09T20:47:41.208403Z",
     "iopub.status.busy": "2022-07-09T20:47:41.207754Z",
     "iopub.status.idle": "2022-07-09T20:47:46.015172Z",
     "shell.execute_reply": "2022-07-09T20:47:46.014231Z",
     "shell.execute_reply.started": "2022-07-09T20:47:41.208363Z"
    },
    "trusted": true
   },
   "outputs": [],
   "source": [
    "fig, axs = plt.subplots(5, 5, figsize=(20, 20))\n",
    "axs = axs.flatten()\n",
    "for i in range(25):\n",
    "    axs[i].imshow(plt.imread(img_fns[i]))\n",
    "    axs[i].axis('off')\n",
    "    image_id = img_fns[i].split('/')[-1].rstrip('.jpg')\n",
    "    n_annot = len(annot.query('image_id == @image_id'))\n",
    "    axs[i].set_title(f'{image_id} - {n_annot}')\n",
    "plt.show()"
   ]
  },
  {
   "cell_type": "code",
   "execution_count": null,
   "metadata": {
    "editable": false,
    "execution": {
     "iopub.execute_input": "2022-07-09T20:47:46.017434Z",
     "iopub.status.busy": "2022-07-09T20:47:46.016864Z",
     "iopub.status.idle": "2022-07-09T20:47:46.4895Z",
     "shell.execute_reply": "2022-07-09T20:47:46.488269Z",
     "shell.execute_reply.started": "2022-07-09T20:47:46.017396Z"
    },
    "trusted": true
   },
   "outputs": [],
   "source": [
    "import pytesseract\n",
    "\n",
    "# Example call\n",
    "print(pytesseract.image_to_string(img_fns[11], lang='eng'))"
   ]
  },
  {
   "cell_type": "code",
   "execution_count": null,
   "metadata": {
    "editable": false,
    "execution": {
     "iopub.execute_input": "2022-07-09T20:47:50.247405Z",
     "iopub.status.busy": "2022-07-09T20:47:50.24676Z",
     "iopub.status.idle": "2022-07-09T20:47:50.598297Z",
     "shell.execute_reply": "2022-07-09T20:47:50.59744Z",
     "shell.execute_reply.started": "2022-07-09T20:47:50.247365Z"
    },
    "trusted": true
   },
   "outputs": [],
   "source": [
    "fig, ax = plt.subplots(figsize=(10,10))\n",
    "ax.imshow(plt.imread(img_fns[11]))\n",
    "ax.axis('off')\n",
    "plt.show()"
   ]
  },
  {
   "cell_type": "code",
   "execution_count": null,
   "metadata": {
    "editable": false,
    "execution": {
     "iopub.execute_input": "2022-07-09T20:47:56.902186Z",
     "iopub.status.busy": "2022-07-09T20:47:56.90158Z",
     "iopub.status.idle": "2022-07-09T20:48:05.828372Z",
     "shell.execute_reply": "2022-07-09T20:48:05.827386Z",
     "shell.execute_reply.started": "2022-07-09T20:47:56.902149Z"
    },
    "trusted": true
   },
   "outputs": [],
   "source": [
    "import easyocr\n",
    "\n",
    "reader = easyocr.Reader(['en'], gpu = True)"
   ]
  },
  {
   "cell_type": "code",
   "execution_count": null,
   "metadata": {
    "editable": false,
    "execution": {
     "iopub.execute_input": "2022-07-09T20:48:42.39178Z",
     "iopub.status.busy": "2022-07-09T20:48:42.391368Z",
     "iopub.status.idle": "2022-07-09T20:48:47.972506Z",
     "shell.execute_reply": "2022-07-09T20:48:47.971497Z",
     "shell.execute_reply.started": "2022-07-09T20:48:42.391746Z"
    },
    "trusted": true
   },
   "outputs": [],
   "source": [
    "results = reader.readtext(img_fns[11])"
   ]
  },
  {
   "cell_type": "code",
   "execution_count": null,
   "metadata": {
    "editable": false,
    "execution": {
     "iopub.execute_input": "2022-07-09T20:48:49.47173Z",
     "iopub.status.busy": "2022-07-09T20:48:49.471338Z",
     "iopub.status.idle": "2022-07-09T20:48:49.501072Z",
     "shell.execute_reply": "2022-07-09T20:48:49.500234Z",
     "shell.execute_reply.started": "2022-07-09T20:48:49.471678Z"
    },
    "trusted": true
   },
   "outputs": [],
   "source": [
    "pd.DataFrame(results, columns=['bbox','text','conf'])"
   ]
  },
  {
   "cell_type": "code",
   "execution_count": null,
   "metadata": {
    "editable": false,
    "execution": {
     "iopub.execute_input": "2022-07-09T20:49:07.77217Z",
     "iopub.status.busy": "2022-07-09T20:49:07.771407Z",
     "iopub.status.idle": "2022-07-09T20:49:25.70696Z",
     "shell.execute_reply": "2022-07-09T20:49:25.705968Z",
     "shell.execute_reply.started": "2022-07-09T20:49:07.772129Z"
    },
    "trusted": true
   },
   "outputs": [],
   "source": [
    "import keras_ocr\n",
    "\n",
    "pipeline = keras_ocr.pipeline.Pipeline()"
   ]
  },
  {
   "cell_type": "code",
   "execution_count": null,
   "metadata": {
    "editable": false,
    "execution": {
     "iopub.execute_input": "2022-07-09T20:49:32.765571Z",
     "iopub.status.busy": "2022-07-09T20:49:32.764763Z",
     "iopub.status.idle": "2022-07-09T20:49:38.28606Z",
     "shell.execute_reply": "2022-07-09T20:49:38.285001Z",
     "shell.execute_reply.started": "2022-07-09T20:49:32.765525Z"
    },
    "trusted": true
   },
   "outputs": [],
   "source": [
    "results = pipeline.recognize([img_fns[11]])"
   ]
  },
  {
   "cell_type": "code",
   "execution_count": null,
   "metadata": {
    "editable": false,
    "execution": {
     "iopub.execute_input": "2022-07-09T20:49:43.664576Z",
     "iopub.status.busy": "2022-07-09T20:49:43.66412Z",
     "iopub.status.idle": "2022-07-09T20:49:43.699957Z",
     "shell.execute_reply": "2022-07-09T20:49:43.698932Z",
     "shell.execute_reply.started": "2022-07-09T20:49:43.66452Z"
    },
    "trusted": true
   },
   "outputs": [],
   "source": [
    "pd.DataFrame(results[0], columns=['text', 'bbox'])"
   ]
  },
  {
   "cell_type": "code",
   "execution_count": null,
   "metadata": {
    "editable": false,
    "execution": {
     "iopub.execute_input": "2022-07-09T20:49:47.140019Z",
     "iopub.status.busy": "2022-07-09T20:49:47.139664Z",
     "iopub.status.idle": "2022-07-09T20:49:47.840115Z",
     "shell.execute_reply": "2022-07-09T20:49:47.838267Z",
     "shell.execute_reply.started": "2022-07-09T20:49:47.139992Z"
    },
    "trusted": true
   },
   "outputs": [],
   "source": [
    "fig, ax = plt.subplots(figsize=(10, 10))\n",
    "keras_ocr.tools.drawAnnotations(plt.imread(img_fns[11]), results[0], ax=ax)\n",
    "ax.set_title('Keras OCR Result Example')\n",
    "plt.show()"
   ]
  },
  {
   "cell_type": "code",
   "execution_count": null,
   "metadata": {
    "editable": false,
    "execution": {
     "iopub.execute_input": "2022-07-09T20:50:04.952728Z",
     "iopub.status.busy": "2022-07-09T20:50:04.952364Z",
     "iopub.status.idle": "2022-07-09T20:50:13.534974Z",
     "shell.execute_reply": "2022-07-09T20:50:13.534081Z",
     "shell.execute_reply.started": "2022-07-09T20:50:04.952697Z"
    },
    "trusted": true
   },
   "outputs": [],
   "source": [
    "# easyocr\n",
    "reader = easyocr.Reader(['en'], gpu = True)\n",
    "\n",
    "dfs = []\n",
    "for img in tqdm(img_fns[:25]):\n",
    "    result = reader.readtext(img)\n",
    "    img_id = img.split('/')[-1].split('.')[0]\n",
    "    img_df = pd.DataFrame(result, columns=['bbox','text','conf'])\n",
    "    img_df['img_id'] = img_id\n",
    "    dfs.append(img_df)\n",
    "easyocr_df = pd.concat(dfs)"
   ]
  },
  {
   "cell_type": "code",
   "execution_count": null,
   "metadata": {
    "editable": false,
    "execution": {
     "iopub.execute_input": "2022-07-09T20:50:26.948338Z",
     "iopub.status.busy": "2022-07-09T20:50:26.947703Z",
     "iopub.status.idle": "2022-07-09T20:51:34.500472Z",
     "shell.execute_reply": "2022-07-09T20:51:34.499521Z",
     "shell.execute_reply.started": "2022-07-09T20:50:26.9483Z"
    },
    "trusted": true
   },
   "outputs": [],
   "source": [
    "# keras_ocr\n",
    "pipeline = keras_ocr.pipeline.Pipeline()\n",
    "\n",
    "dfs = []\n",
    "for img in tqdm(img_fns[:25]):\n",
    "    results = pipeline.recognize([img])\n",
    "    result = results[0]\n",
    "    img_id = img.split('/')[-1].split('.')[0]\n",
    "    img_df = pd.DataFrame(result, columns=['text', 'bbox'])\n",
    "    img_df['img_id'] = img_id\n",
    "    dfs.append(img_df)\n",
    "kerasocr_df = pd.concat(dfs)"
   ]
  },
  {
   "cell_type": "code",
   "execution_count": null,
   "metadata": {
    "editable": false,
    "execution": {
     "iopub.execute_input": "2022-07-09T20:59:22.633411Z",
     "iopub.status.busy": "2022-07-09T20:59:22.632451Z",
     "iopub.status.idle": "2022-07-09T20:59:22.643189Z",
     "shell.execute_reply": "2022-07-09T20:59:22.641754Z",
     "shell.execute_reply.started": "2022-07-09T20:59:22.633359Z"
    },
    "trusted": true
   },
   "outputs": [],
   "source": [
    "def plot_compare(img_fn, easyocr_df, kerasocr_df):\n",
    "    img_id = img_fn.split('/')[-1].split('.')[0]\n",
    "    fig, axs = plt.subplots(1, 2, figsize=(15, 10))\n",
    "\n",
    "    easy_results = easyocr_df.query('img_id == @img_id')[['text','bbox']].values.tolist()\n",
    "    easy_results = [(x[0], np.array(x[1])) for x in easy_results]\n",
    "    keras_ocr.tools.drawAnnotations(plt.imread(img_fn), \n",
    "                                    easy_results, ax=axs[0])\n",
    "    axs[0].set_title('easyocr results', fontsize=24)\n",
    "\n",
    "    keras_results = kerasocr_df.query('img_id == @img_id')[['text','bbox']].values.tolist()\n",
    "    keras_results = [(x[0], np.array(x[1])) for x in keras_results]\n",
    "    keras_ocr.tools.drawAnnotations(plt.imread(img_fn), \n",
    "                                    keras_results, ax=axs[1])\n",
    "    axs[1].set_title('keras_ocr results', fontsize=24)\n",
    "    plt.show()"
   ]
  },
  {
   "cell_type": "code",
   "execution_count": null,
   "metadata": {
    "editable": false,
    "execution": {
     "iopub.execute_input": "2022-07-09T21:00:04.677042Z",
     "iopub.status.busy": "2022-07-09T21:00:04.676426Z",
     "iopub.status.idle": "2022-07-09T21:00:39.307109Z",
     "shell.execute_reply": "2022-07-09T21:00:39.304364Z",
     "shell.execute_reply.started": "2022-07-09T21:00:04.677005Z"
    },
    "trusted": true
   },
   "outputs": [],
   "source": [
    "# Loop over results\n",
    "for img_fn in img_fns[:25]:\n",
    "    plot_compare(img_fn, easyocr_df, kerasocr_df)"
   ]
  },
  {
   "cell_type": "code",
   "execution_count": null,
   "metadata": {
    "editable": false
   },
   "outputs": [],
   "source": []
  }
 ],
 "metadata": {
  "kaggle": {
   "accelerator": "gpu",
   "dataSources": [
    {
     "datasetId": 2327240,
     "sourceId": 3919937,
     "sourceType": "datasetVersion"
    }
   ],
   "dockerImageVersionId": 30203,
   "isGpuEnabled": true,
   "isInternetEnabled": false,
   "language": "python",
   "sourceType": "notebook"
  },
  "kernelspec": {
   "display_name": "Python 3 (ipykernel)",
   "language": "python",
   "name": "python3"
  },
  "language_info": {
   "codemirror_mode": {
    "name": "ipython",
    "version": 3
   },
   "file_extension": ".py",
   "mimetype": "text/x-python",
   "name": "python",
   "nbconvert_exporter": "python",
   "pygments_lexer": "ipython3",
   "version": "3.11.7"
  }
 },
 "nbformat": 4,
 "nbformat_minor": 4
}
